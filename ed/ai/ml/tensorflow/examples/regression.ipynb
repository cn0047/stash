{
 "cells": [
  {
   "cell_type": "code",
   "execution_count": 27,
   "metadata": {},
   "outputs": [
    {
     "name": "stdout",
     "output_type": "stream",
     "text": [
      "The tensorboard extension is already loaded. To reload it, use:\n",
      "  %reload_ext tensorboard\n"
     ]
    }
   ],
   "source": [
    "%load_ext tensorboard"
   ]
  },
  {
   "cell_type": "code",
   "execution_count": 28,
   "metadata": {},
   "outputs": [],
   "source": [
    "import os\n",
    "os.makedirs(\"./tb_logs\", exist_ok=True)"
   ]
  },
  {
   "cell_type": "code",
   "execution_count": 29,
   "metadata": {},
   "outputs": [],
   "source": [
    "import numpy as np\n",
    "import matplotlib.pyplot as plt\n",
    "import tensorflow.compat.v1 as tf\n",
    "tf.disable_v2_behavior()\n"
   ]
  },
  {
   "cell_type": "code",
   "execution_count": 30,
   "metadata": {},
   "outputs": [],
   "source": [
    "np.random.seed(101)\n",
    "tf.set_random_seed(101)\n"
   ]
  },
  {
   "cell_type": "code",
   "execution_count": 31,
   "metadata": {},
   "outputs": [],
   "source": [
    "# Genrating random linear data\n",
    "with tf.name_scope('genrating_data'):\n",
    "  # There will be 50 data points ranging from 0 to 50\n",
    "  x = np.linspace(0, 50, 50)\n",
    "  y = np.linspace(0, 50, 50)\n",
    "  # Adding noise to the random linear data\n",
    "  x += np.random.uniform(-4, 4, 50)\n",
    "  y += np.random.uniform(-4, 4, 50)\n",
    "  n = len(x) # Number of data points\n"
   ]
  },
  {
   "cell_type": "code",
   "execution_count": 32,
   "metadata": {},
   "outputs": [
    {
     "data": {
      "image/png": "[encoded data removed]",
      "text/plain": [
       "<Figure size 432x288 with 1 Axes>"
      ]
     },
     "metadata": {
      "needs_background": "light"
     },
     "output_type": "display_data"
    }
   ],
   "source": [
    "# Plot of Training Data\n",
    "with tf.name_scope('training_data_plot'):\n",
    "  plt.scatter(x, y)\n",
    "  plt.xlabel('x')\n",
    "  plt.xlabel('y')\n",
    "  plt.title(\"Training Data\")\n",
    "  plt.show()\n"
   ]
  },
  {
   "cell_type": "code",
   "execution_count": 33,
   "metadata": {},
   "outputs": [],
   "source": [
    "with tf.name_scope('xywb'):\n",
    "  X = tf.placeholder(\"float\")\n",
    "  Y = tf.placeholder(\"float\")\n",
    "  W = tf.Variable(np.random.randn(), name = \"W\")\n",
    "  b = tf.Variable(np.random.randn(), name = \"b\")\n",
    "  learning_rate = 0.01\n",
    "  training_epochs = 1000\n"
   ]
  },
  {
   "cell_type": "code",
   "execution_count": 34,
   "metadata": {},
   "outputs": [],
   "source": [
    "# Hypothesis\n",
    "with tf.name_scope('hypothesis'):\n",
    "  y_pred = tf.add(tf.multiply(X, W), b)\n",
    "  # Mean Squared Error Cost Function\n",
    "  cost = tf.reduce_sum(tf.pow(y_pred-Y, 2)) / (2 * n)\n",
    "  # Gradient Descent Optimizer\n",
    "  optimizer = tf.train.GradientDescentOptimizer(learning_rate).minimize(cost)\n",
    "  # Global Variables Initializer\n",
    "  init = tf.global_variables_initializer()\n"
   ]
  },
  {
   "cell_type": "code",
   "execution_count": 35,
   "metadata": {},
   "outputs": [
    {
     "name": "stdout",
     "output_type": "stream",
     "text": [
      "Epoch 50 : cost = 5.8868036 W = 0.9951241 b = 1.238105\n",
      "Epoch 100 : cost = 5.79127 W = 0.99812365 b = 1.0914395\n",
      "Epoch 150 : cost = 5.7119684 W = 1.0008028 b = 0.96044284\n",
      "Epoch 200 : cost = 5.6459413 W = 1.0031956 b = 0.84343934\n",
      "Epoch 250 : cost = 5.5907993 W = 1.0053328 b = 0.7389355\n",
      "Epoch 300 : cost = 5.544608 W = 1.007242 b = 0.6455921\n",
      "Epoch 350 : cost = 5.5057893 W = 1.008947 b = 0.56221986\n",
      "Epoch 400 : cost = 5.473066 W = 1.01047 b = 0.48775342\n",
      "Epoch 450 : cost = 5.445385 W = 1.0118302 b = 0.42124158\n",
      "Epoch 500 : cost = 5.4219036 W = 1.0130452 b = 0.36183482\n",
      "Epoch 550 : cost = 5.4019227 W = 1.0141305 b = 0.30877408\n",
      "Epoch 600 : cost = 5.3848557 W = 1.0150996 b = 0.2613811\n",
      "Epoch 650 : cost = 5.370246 W = 1.0159653 b = 0.21905078\n",
      "Epoch 700 : cost = 5.3576994 W = 1.0167387 b = 0.18124203\n",
      "Epoch 750 : cost = 5.3468933 W = 1.0174294 b = 0.14747237\n",
      "Epoch 800 : cost = 5.337558 W = 1.0180461 b = 0.11730931\n",
      "Epoch 850 : cost = 5.3294754 W = 1.0185971 b = 0.090368524\n",
      "Epoch 900 : cost = 5.322459 W = 1.0190892 b = 0.06630575\n",
      "Epoch 950 : cost = 5.3163586 W = 1.0195289 b = 0.044813294\n",
      "Epoch 1000 : cost = 5.3110332 W = 1.0199214 b = 0.02561658\n"
     ]
    }
   ],
   "source": [
    "with tf.name_scope('sess'):\n",
    "  # Starting the Tensorflow Session\n",
    "  with tf.Session() as sess:\n",
    "    file_writer = tf.summary.FileWriter(\"./tb_logs\", sess.graph)\n",
    "    # Initializing the Variables\n",
    "    sess.run(init)\n",
    "    # Iterating through all the epochs\n",
    "    for epoch in range(training_epochs):\n",
    "      # Feeding each data point into the optimizer using Feed Dictionary\n",
    "      for (_x, _y) in zip(x, y):\n",
    "        sess.run(optimizer, feed_dict = {X : _x, Y : _y})\n",
    "      # Displaying the result after every 50 epochs\n",
    "      if (epoch + 1) % 50 == 0:\n",
    "        # Calculating the cost a every epoch\n",
    "        c = sess.run(cost, feed_dict = {X : x, Y : y})\n",
    "        print(\"Epoch\", (epoch + 1), \": cost =\", c, \"W =\", sess.run(W), \"b =\", sess.run(b))\n",
    "    # Storing necessary values to be used outside the Session\n",
    "    training_cost = sess.run(cost, feed_dict ={X: x, Y: y})\n",
    "    weight = sess.run(W)\n",
    "    bias = sess.run(b)\n"
   ]
  },
  {
   "cell_type": "code",
   "execution_count": 36,
   "metadata": {},
   "outputs": [
    {
     "name": "stdout",
     "output_type": "stream",
     "text": [
      "Training cost = 5.3110332 Weight = 1.0199214 bias = 0.02561658 \n",
      "\n"
     ]
    }
   ],
   "source": [
    "with tf.name_scope('predictions'):\n",
    "  # Calculating the predictions\n",
    "  predictions = weight * x + bias\n",
    "  print(\"Training cost =\", training_cost, \"Weight =\", weight, \"bias =\", bias, '\\n')\n"
   ]
  },
  {
   "cell_type": "code",
   "execution_count": 37,
   "metadata": {},
   "outputs": [
    {
     "data": {
      "image/png": "[encoded data removed]",
      "text/plain": [
       "<Figure size 432x288 with 1 Axes>"
      ]
     },
     "metadata": {
      "needs_background": "light"
     },
     "output_type": "display_data"
    }
   ],
   "source": [
    "# Plotting the Results\n",
    "with tf.name_scope('results'):\n",
    "  plt.plot(x, y, 'ro', label ='Original data')\n",
    "  plt.plot(x, predictions, label ='Fitted line')\n",
    "  plt.title('Linear Regression Result')\n",
    "  plt.legend()\n",
    "  plt.show()\n"
   ]
  },
  {
   "cell_type": "code",
   "execution_count": 38,
   "metadata": {},
   "outputs": [
    {
     "data": {
      "text/plain": [
       "Reusing TensorBoard on port 6006 (pid 32277), started 0:01:48 ago. (Use '!kill 32277' to kill it.)"
      ]
     },
     "metadata": {},
     "output_type": "display_data"
    },
    {
     "data": {
      "text/html": [
       "\n",
       "      <iframe id=\"tensorboard-frame-e305b267ee0cf097\" width=\"100%\" height=\"800\" frameborder=\"0\">\n",
       "      </iframe>\n",
       "      <script>\n",
       "        (function() {\n",
       "          const frame = document.getElementById(\"tensorboard-frame-e305b267ee0cf097\");\n",
       "          const url = new URL(\"/\", window.location);\n",
       "          url.port = 6006;\n",
       "          frame.src = url;\n",
       "        })();\n",
       "      </script>\n",
       "  "
      ],
      "text/plain": [
       "<IPython.core.display.HTML object>"
      ]
     },
     "metadata": {},
     "output_type": "display_data"
    }
   ],
   "source": [
    "%tensorboard --logdir \"./tb_logs\"\n"
   ]
  },
  {
   "cell_type": "code",
   "execution_count": null,
   "metadata": {},
   "outputs": [],
   "source": []
  }
 ],
 "metadata": {
  "kernelspec": {
   "display_name": "Python 3",
   "language": "python",
   "name": "python3"
  },
  "language_info": {
   "codemirror_mode": {
    "name": "ipython",
    "version": 3
   },
   "file_extension": ".py",
   "mimetype": "text/x-python",
   "name": "python",
   "nbconvert_exporter": "python",
   "pygments_lexer": "ipython3",
   "version": "3.7.7"
  }
 },
 "nbformat": 4,
 "nbformat_minor": 4
}
